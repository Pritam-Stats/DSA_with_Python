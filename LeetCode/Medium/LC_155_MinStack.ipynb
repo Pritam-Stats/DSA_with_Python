{
 "cells": [
  {
   "cell_type": "markdown",
   "id": "2f8dc281",
   "metadata": {},
   "source": [
    "- Problem Link : [155 MinStack](https://leetcode.com/problems/min-stack/description/)\n",
    "- Date - 5th July, Saturday, 11:30 PM"
   ]
  },
  {
   "cell_type": "markdown",
   "id": "61090717",
   "metadata": {},
   "source": [
    "# LeetCode 155 - Design MinStack Class\n",
    "- Your MinStack object will be instantiated and called as such:\n",
    "- obj = MinStack()\n",
    "- obj.push(val)\n",
    "- obj.pop()\n",
    "- param_3 = obj.top()\n",
    "- param_4 = obj.getMin()"
   ]
  },
  {
   "cell_type": "code",
   "execution_count": 1,
   "id": "a3cdd434",
   "metadata": {},
   "outputs": [],
   "source": [
    "class MinStack:\n",
    "\n",
    "    def __init__(self):\n",
    "        self.stack = []\n",
    "        self.minStack = []\n",
    "        \n",
    "    def push(self, val: int) -> None:\n",
    "        self.stack.append(val)\n",
    "        if not self.minStack or val <= self.minStack[-1]:\n",
    "            self.minStack.append(val)\n",
    "        else:\n",
    "            self.minStack.append(self.minStack[-1])\n",
    "    \n",
    "    def pop(self) -> None:\n",
    "        if self.stack:\n",
    "            self.stack.pop()\n",
    "            self.minStack.pop()\n",
    "\n",
    "    def top(self) -> int:\n",
    "        if self.stack:\n",
    "            return self.stack[-1]\n",
    "        else:\n",
    "            return -1\n",
    "    \n",
    "    def getMin(self) -> int:\n",
    "        if self.minStack:\n",
    "            return self.minStack[-1]\n",
    "        else:\n",
    "            return -1\n",
    "        \n",
    "\n"
   ]
  },
  {
   "cell_type": "code",
   "execution_count": 2,
   "id": "1074fd71",
   "metadata": {},
   "outputs": [],
   "source": [
    "stack = MinStack()"
   ]
  },
  {
   "cell_type": "code",
   "execution_count": null,
   "id": "e5986793",
   "metadata": {},
   "outputs": [
    {
     "data": {
      "text/plain": [
       "10"
      ]
     },
     "execution_count": 10,
     "metadata": {},
     "output_type": "execute_result"
    }
   ],
   "source": [
    "for i in range(1,11):\n",
    "    stack.push(i)\n",
    "\n",
    "stack.top() #should return 10"
   ]
  },
  {
   "cell_type": "code",
   "execution_count": null,
   "id": "48b8c2fe",
   "metadata": {},
   "outputs": [
    {
     "data": {
      "text/plain": [
       "1"
      ]
     },
     "execution_count": 11,
     "metadata": {},
     "output_type": "execute_result"
    }
   ],
   "source": [
    "stack.getMin()  #should return 1"
   ]
  },
  {
   "cell_type": "code",
   "execution_count": null,
   "id": "11c86181",
   "metadata": {},
   "outputs": [],
   "source": []
  }
 ],
 "metadata": {
  "kernelspec": {
   "display_name": ".venv",
   "language": "python",
   "name": "python3"
  },
  "language_info": {
   "codemirror_mode": {
    "name": "ipython",
    "version": 3
   },
   "file_extension": ".py",
   "mimetype": "text/x-python",
   "name": "python",
   "nbconvert_exporter": "python",
   "pygments_lexer": "ipython3",
   "version": "3.13.5"
  }
 },
 "nbformat": 4,
 "nbformat_minor": 5
}
